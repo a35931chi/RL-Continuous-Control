{
 "cells": [
  {
   "cell_type": "markdown",
   "metadata": {},
   "source": [
    "# Continuous Control\n",
    "\n",
    "---\n",
    "\n",
    "You are welcome to use this coding environment to train your agent for the project.  Follow the instructions below to get started!\n",
    "\n",
    "### 1. Start the Environment\n",
    "\n",
    "Run the next code cell to install a few packages.  This line will take a few minutes to run!"
   ]
  },
  {
   "cell_type": "code",
   "execution_count": 1,
   "metadata": {},
   "outputs": [
    {
     "name": "stdout",
     "output_type": "stream",
     "text": [
      "\u001b[31mtensorflow 1.7.1 has requirement numpy>=1.13.3, but you'll have numpy 1.12.1 which is incompatible.\u001b[0m\r\n",
      "\u001b[31mipython 6.5.0 has requirement prompt-toolkit<2.0.0,>=1.0.15, but you'll have prompt-toolkit 2.0.10 which is incompatible.\u001b[0m\r\n"
     ]
    }
   ],
   "source": [
    "!pip -q install ./python"
   ]
  },
  {
   "cell_type": "markdown",
   "metadata": {},
   "source": [
    "The environments corresponding to both versions of the environment are already saved in the Workspace and can be accessed at the file paths provided below.  \n",
    "\n",
    "Please select one of the two options below for loading the environment."
   ]
  },
  {
   "cell_type": "code",
   "execution_count": 2,
   "metadata": {},
   "outputs": [
    {
     "name": "stderr",
     "output_type": "stream",
     "text": [
      "INFO:unityagents:\n",
      "'Academy' started successfully!\n",
      "Unity Academy name: Academy\n",
      "        Number of Brains: 1\n",
      "        Number of External Brains : 1\n",
      "        Lesson number : 0\n",
      "        Reset Parameters :\n",
      "\t\tgoal_speed -> 1.0\n",
      "\t\tgoal_size -> 5.0\n",
      "Unity brain name: ReacherBrain\n",
      "        Number of Visual Observations (per agent): 0\n",
      "        Vector Observation space type: continuous\n",
      "        Vector Observation space size (per agent): 33\n",
      "        Number of stacked Vector Observation: 1\n",
      "        Vector Action space type: continuous\n",
      "        Vector Action space size (per agent): 4\n",
      "        Vector Action descriptions: , , , \n"
     ]
    }
   ],
   "source": [
    "from unityagents import UnityEnvironment\n",
    "import numpy as np\n",
    "\n",
    "# select this option to load version 1 (with a single agent) of the environment\n",
    "env = UnityEnvironment(file_name='/data/Reacher_One_Linux_NoVis/Reacher_One_Linux_NoVis.x86_64')\n",
    "\n",
    "# select this option to load version 2 (with 20 agents) of the environment\n",
    "# env = UnityEnvironment(file_name='/data/Reacher_Linux_NoVis/Reacher.x86_64')"
   ]
  },
  {
   "cell_type": "markdown",
   "metadata": {},
   "source": [
    "Environments contain **_brains_** which are responsible for deciding the actions of their associated agents. Here we check for the first brain available, and set it as the default brain we will be controlling from Python."
   ]
  },
  {
   "cell_type": "code",
   "execution_count": 3,
   "metadata": {},
   "outputs": [],
   "source": [
    "# get the default brain\n",
    "brain_name = env.brain_names[0]\n",
    "brain = env.brains[brain_name]"
   ]
  },
  {
   "cell_type": "markdown",
   "metadata": {},
   "source": [
    "### 2. Examine the State and Action Spaces\n",
    "\n",
    "Run the code cell below to print some information about the environment."
   ]
  },
  {
   "cell_type": "code",
   "execution_count": 4,
   "metadata": {},
   "outputs": [
    {
     "name": "stdout",
     "output_type": "stream",
     "text": [
      "Number of agents: 1\n",
      "Size of each action: 4\n",
      "There are 1 agents. Each observes a state with length: 33\n",
      "The state for the first agent looks like: [  0.00000000e+00  -4.00000000e+00   0.00000000e+00   1.00000000e+00\n",
      "  -0.00000000e+00  -0.00000000e+00  -4.37113883e-08   0.00000000e+00\n",
      "   0.00000000e+00   0.00000000e+00   0.00000000e+00   0.00000000e+00\n",
      "   0.00000000e+00   0.00000000e+00  -1.00000000e+01   0.00000000e+00\n",
      "   1.00000000e+00  -0.00000000e+00  -0.00000000e+00  -4.37113883e-08\n",
      "   0.00000000e+00   0.00000000e+00   0.00000000e+00   0.00000000e+00\n",
      "   0.00000000e+00   0.00000000e+00   5.75471878e+00  -1.00000000e+00\n",
      "   5.55726671e+00   0.00000000e+00   1.00000000e+00   0.00000000e+00\n",
      "  -1.68164849e-01]\n"
     ]
    }
   ],
   "source": [
    "# reset the environment\n",
    "env_info = env.reset(train_mode=True)[brain_name]\n",
    "\n",
    "# number of agents\n",
    "num_agents = len(env_info.agents)\n",
    "print('Number of agents:', num_agents)\n",
    "\n",
    "# size of each action\n",
    "action_size = brain.vector_action_space_size\n",
    "print('Size of each action:', action_size)\n",
    "\n",
    "# examine the state space \n",
    "states = env_info.vector_observations\n",
    "state_size = states.shape[1]\n",
    "print('There are {} agents. Each observes a state with length: {}'.format(states.shape[0], state_size))\n",
    "print('The state for the first agent looks like:', states[0])"
   ]
  },
  {
   "cell_type": "markdown",
   "metadata": {},
   "source": [
    "### 3. Take Random Actions in the Environment\n",
    "\n",
    "In the next code cell, you will learn how to use the Python API to control the agent and receive feedback from the environment.\n",
    "\n",
    "Note that **in this coding environment, you will not be able to watch the agents while they are training**, and you should set `train_mode=True` to restart the environment."
   ]
  },
  {
   "cell_type": "code",
   "execution_count": 5,
   "metadata": {},
   "outputs": [
    {
     "name": "stdout",
     "output_type": "stream",
     "text": [
      "Total score (averaged over agents) this episode: 0.0\n"
     ]
    }
   ],
   "source": [
    "env_info = env.reset(train_mode=True)[brain_name]      # reset the environment    \n",
    "states = env_info.vector_observations                  # get the current state (for each agent)\n",
    "scores = np.zeros(num_agents)                          # initialize the score (for each agent)\n",
    "while True:\n",
    "    actions = np.random.randn(num_agents, action_size) # select an action (for each agent)\n",
    "    actions = np.clip(actions, -1, 1)                  # all actions between -1 and 1\n",
    "    env_info = env.step(actions)[brain_name]           # send all actions to tne environment\n",
    "    next_states = env_info.vector_observations         # get next state (for each agent)\n",
    "    rewards = env_info.rewards                         # get reward (for each agent)\n",
    "    dones = env_info.local_done                        # see if episode finished\n",
    "    scores += env_info.rewards                         # update the score (for each agent)\n",
    "    states = next_states                               # roll over states to next time step\n",
    "    if np.any(dones):                                  # exit loop if episode finished\n",
    "        break\n",
    "print('Total score (averaged over agents) this episode: {}'.format(np.mean(scores)))"
   ]
  },
  {
   "cell_type": "markdown",
   "metadata": {},
   "source": [
    "When finished, you can close the environment."
   ]
  },
  {
   "cell_type": "code",
   "execution_count": 6,
   "metadata": {},
   "outputs": [],
   "source": [
    "env.close()"
   ]
  },
  {
   "cell_type": "markdown",
   "metadata": {},
   "source": [
    "### 4. It's Your Turn!\n",
    "\n",
    "Now it's your turn to train your own agent to solve the environment!  A few **important notes**:\n",
    "- When training the environment, set `train_mode=True`, so that the line for resetting the environment looks like the following:\n",
    "```python\n",
    "env_info = env.reset(train_mode=True)[brain_name]\n",
    "```\n",
    "- To structure your work, you're welcome to work directly in this Jupyter notebook, or you might like to start over with a new file!  You can see the list of files in the workspace by clicking on **_Jupyter_** in the top left corner of the notebook.\n",
    "- In this coding environment, you will not be able to watch the agents while they are training.  However, **_after training the agents_**, you can download the saved model weights to watch the agents on your own machine! "
   ]
  },
  {
   "cell_type": "markdown",
   "metadata": {},
   "source": [
    "## Start Here!!"
   ]
  },
  {
   "cell_type": "code",
   "execution_count": 1,
   "metadata": {},
   "outputs": [
    {
     "name": "stdout",
     "output_type": "stream",
     "text": [
      "\u001b[31mtensorflow 1.7.1 has requirement numpy>=1.13.3, but you'll have numpy 1.12.1 which is incompatible.\u001b[0m\r\n",
      "\u001b[31mipython 6.5.0 has requirement prompt-toolkit<2.0.0,>=1.0.15, but you'll have prompt-toolkit 2.0.10 which is incompatible.\u001b[0m\r\n"
     ]
    }
   ],
   "source": [
    "!pip -q install ./python #for some reason we need this, also why does the Udacity environment keep freezing??\n",
    "\n",
    "#additional libraries\n",
    "import torch\n",
    "import torch.nn as nn\n",
    "import torch.nn.functional as F\n",
    "import torch.optim as optim\n",
    "\n",
    "import numpy as np\n",
    "import random\n",
    "import copy\n",
    "import time\n",
    "from collections import OrderedDict, deque, namedtuple\n",
    "import matplotlib.pyplot as plt\n",
    "import warnings\n",
    "warnings.filterwarnings(\"ignore\")\n",
    "\n",
    "# Set plotting options\n",
    "%matplotlib inline\n",
    "plt.style.use('ggplot')\n",
    "np.set_printoptions(precision=3, linewidth=120)\n",
    "%config InlineBackend.figure_format = 'retina'"
   ]
  },
  {
   "cell_type": "code",
   "execution_count": 2,
   "metadata": {},
   "outputs": [
    {
     "name": "stderr",
     "output_type": "stream",
     "text": [
      "INFO:unityagents:\n",
      "'Academy' started successfully!\n",
      "Unity Academy name: Academy\n",
      "        Number of Brains: 1\n",
      "        Number of External Brains : 1\n",
      "        Lesson number : 0\n",
      "        Reset Parameters :\n",
      "\t\tgoal_size -> 5.0\n",
      "\t\tgoal_speed -> 1.0\n",
      "Unity brain name: ReacherBrain\n",
      "        Number of Visual Observations (per agent): 0\n",
      "        Vector Observation space type: continuous\n",
      "        Vector Observation space size (per agent): 33\n",
      "        Number of stacked Vector Observation: 1\n",
      "        Vector Action space type: continuous\n",
      "        Vector Action space size (per agent): 4\n",
      "        Vector Action descriptions: , , , \n"
     ]
    }
   ],
   "source": [
    "#load the environment\n",
    "from unityagents import UnityEnvironment\n",
    "\n",
    "# select this option to load version 1 (with a single agent) of the environment\n",
    "env = UnityEnvironment(file_name='/data/Reacher_One_Linux_NoVis/Reacher_One_Linux_NoVis.x86_64')"
   ]
  },
  {
   "cell_type": "code",
   "execution_count": 3,
   "metadata": {},
   "outputs": [
    {
     "name": "stdout",
     "output_type": "stream",
     "text": [
      "There are 1 agents, 33 states and 4 action space.\n"
     ]
    }
   ],
   "source": [
    "brain_name = env.brain_names[0]\n",
    "brain = env.brains[brain_name]\n",
    "\n",
    "# Reset the environment    \n",
    "env_info = env.reset(train_mode=True)[brain_name]  \n",
    "\n",
    "# number of agents\n",
    "num_agents = len(env_info.agents)\n",
    "\n",
    "# size of each action\n",
    "action_size = brain.vector_action_space_size\n",
    "\n",
    "# size of the state space \n",
    "states = env_info.vector_observations\n",
    "state_size = states.shape[1]\n",
    "\n",
    "device = torch.device(\"cuda:0\" if torch.cuda.is_available() else \"cpu\")\n",
    "\n",
    "print('There are {} agents, {} states and {} action space.'.format(num_agents, state_size, action_size))"
   ]
  },
  {
   "cell_type": "code",
   "execution_count": 4,
   "metadata": {},
   "outputs": [],
   "source": [
    "'''Define Utility functions:\n",
    "\n",
    "OUNoise (Ornstein–Uhlenbeck): https://en.wikipedia.org/wiki/Ornstein%E2%80%93Uhlenbeck_process\n",
    "ReplayBuffer: storing experiences\n",
    "\n",
    "'''\n",
    "class OUNoise:\n",
    "    '''OUNoise (Ornstein–Uhlenbeck): https://en.wikipedia.org/wiki/Ornstein%E2%80%93Uhlenbeck_process'''\n",
    "\n",
    "    def __init__(self, size, seed, mu=0., theta=0.15, sigma=0.2):\n",
    "        self.mu = mu * np.ones(size)\n",
    "        self.theta = theta\n",
    "        self.sigma = sigma\n",
    "        self.seed = random.seed(seed)\n",
    "        self.reset()\n",
    "\n",
    "    def reset(self):\n",
    "        self.state = copy.copy(self.mu)\n",
    "\n",
    "    def sample(self):\n",
    "        x = self.state\n",
    "        dx = self.theta * (self.mu - x) + self.sigma * np.array([random.random() for i in range(len(x))])\n",
    "        self.state = x + dx\n",
    "        return self.state"
   ]
  },
  {
   "cell_type": "code",
   "execution_count": 5,
   "metadata": {},
   "outputs": [
    {
     "name": "stdout",
     "output_type": "stream",
     "text": [
      "[ 0.  0.  0.  0.  0.  0.  0.  0.  0.  0.]\n",
      "[ 0.114  0.086  0.116  0.041  0.163  0.165  0.131  0.032  0.104  0.066]\n"
     ]
    }
   ],
   "source": [
    "#testing noise\n",
    "test_noise = OUNoise(seed = 10, size = 10)\n",
    "print(test_noise.state)\n",
    "test_noise.sample()\n",
    "print(test_noise.state)"
   ]
  },
  {
   "cell_type": "code",
   "execution_count": 6,
   "metadata": {},
   "outputs": [],
   "source": [
    "class ReplayBuffer:\n",
    "    # ReplayBuffer: storing experiences\n",
    "    def __init__(self, action_size, buffer_size, batch_size, seed):\n",
    "        self.action_size = action_size #\n",
    "        self.memory = deque(maxlen = buffer_size)  # internal memory (deque)\n",
    "        self.batch_size = batch_size #maximum size of buffer\n",
    "        self.experience = namedtuple(\"Experience\", field_names = [\"state\", \"action\", \"reward\", \"next_state\", \"done\"])\n",
    "        self.seed = random.seed(seed)\n",
    "    \n",
    "    def add(self, state, action, reward, next_state, done):\n",
    "        # add to memory\n",
    "        e = self.experience(state, action, reward, next_state, done)\n",
    "        self.memory.append(e)\n",
    "    \n",
    "    def sample(self):\n",
    "        #randomly select # of experiences from memory, where the size = batch_size\n",
    "        experiences = random.sample(self.memory, k = self.batch_size)\n",
    "\n",
    "        states = torch.from_numpy(np.vstack([e.state for e in experiences if e is not None])).float().to(device)\n",
    "        actions = torch.from_numpy(np.vstack([e.action for e in experiences if e is not None])).float().to(device)\n",
    "        rewards = torch.from_numpy(np.vstack([e.reward for e in experiences if e is not None])).float().to(device)\n",
    "        next_states = torch.from_numpy(np.vstack([e.next_state for e in experiences if e is not None])).float().to(device)\n",
    "        dones = torch.from_numpy(np.vstack([e.done for e in experiences if e is not None]).astype(np.uint8)).float().to(device)\n",
    "\n",
    "        return (states, actions, rewards, next_states, dones)\n",
    "\n",
    "    def __len__(self):\n",
    "        \"\"\"Return the current size of internal memory.\"\"\"\n",
    "        return len(self.memory)"
   ]
  },
  {
   "cell_type": "code",
   "execution_count": 7,
   "metadata": {
    "scrolled": true
   },
   "outputs": [
    {
     "name": "stdout",
     "output_type": "stream",
     "text": [
      "deque([Experience(state=5, action=2, reward=-1, next_state=4, done=True), Experience(state=1, action=1, reward=0, next_state=3, done=True), Experience(state=5, action=1, reward=-1, next_state=4, done=False), Experience(state=5, action=2, reward=-1, next_state=1, done=False), Experience(state=2, action=2, reward=0, next_state=4, done=False), Experience(state=4, action=2, reward=1, next_state=3, done=True), Experience(state=5, action=2, reward=-1, next_state=3, done=False), Experience(state=3, action=2, reward=1, next_state=2, done=True), Experience(state=4, action=3, reward=0, next_state=4, done=True), Experience(state=1, action=1, reward=0, next_state=3, done=True)], maxlen=10) 10 \n",
      "\n",
      "(tensor([[ 1.],\n",
      "        [ 2.],\n",
      "        [ 3.],\n",
      "        [ 5.],\n",
      "        [ 4.],\n",
      "        [ 1.],\n",
      "        [ 5.],\n",
      "        [ 4.],\n",
      "        [ 5.],\n",
      "        [ 5.]]), tensor([[ 1.],\n",
      "        [ 2.],\n",
      "        [ 2.],\n",
      "        [ 2.],\n",
      "        [ 3.],\n",
      "        [ 1.],\n",
      "        [ 2.],\n",
      "        [ 2.],\n",
      "        [ 2.],\n",
      "        [ 1.]]), tensor([[ 0.],\n",
      "        [ 0.],\n",
      "        [ 1.],\n",
      "        [-1.],\n",
      "        [ 0.],\n",
      "        [ 0.],\n",
      "        [-1.],\n",
      "        [ 1.],\n",
      "        [-1.],\n",
      "        [-1.]]), tensor([[ 3.],\n",
      "        [ 4.],\n",
      "        [ 2.],\n",
      "        [ 1.],\n",
      "        [ 4.],\n",
      "        [ 3.],\n",
      "        [ 3.],\n",
      "        [ 3.],\n",
      "        [ 4.],\n",
      "        [ 4.]]), tensor([[ 1.],\n",
      "        [ 0.],\n",
      "        [ 1.],\n",
      "        [ 0.],\n",
      "        [ 1.],\n",
      "        [ 1.],\n",
      "        [ 0.],\n",
      "        [ 1.],\n",
      "        [ 1.],\n",
      "        [ 0.]])) \n",
      "\n"
     ]
    }
   ],
   "source": [
    "#testing replaybuffer\n",
    "test_RB = ReplayBuffer(action_size = 4, buffer_size = 10, batch_size = 10, seed = 10)\n",
    "for i in range(20):\n",
    "    test_RB.add(state = random.choice([1, 2, 3, 4, 5]), \n",
    "                action = random.choice([1, 2, 3, 4]), \n",
    "                reward = random.choice([-1, 0, 1]), \n",
    "                next_state = random.choice([1, 2, 3, 4, 5]), \n",
    "                done = random.choice([True, False]))\n",
    "\n",
    "print(test_RB.memory, test_RB.batch_size, '\\n')\n",
    "print(test_RB.sample(), '\\n')"
   ]
  },
  {
   "cell_type": "code",
   "execution_count": 8,
   "metadata": {},
   "outputs": [],
   "source": [
    "#Define the Actor and Critic Models\n",
    "\n",
    "def hidden_init(layer):\n",
    "    fan_in = layer.weight.data.size()[0]\n",
    "    lim = 1. / np.sqrt(fan_in)\n",
    "    return (-lim, lim)\n",
    "\n",
    "class Actor(nn.Module):\n",
    "    #Actor (Policy)\n",
    "\n",
    "    def __init__(self, state_size, action_size, seed, fc1_units = 400, fc2_units = 300):\n",
    "        super(Actor, self).__init__()\n",
    "        self.seed = torch.manual_seed(seed)\n",
    "        \n",
    "        # Dense layers\n",
    "        self.fc1 = nn.Linear(state_size, fc1_units) #layer 1 is linear, with state_size inputs\n",
    "        self.fc2 = nn.Linear(fc1_units, fc2_units) #layer 2 is linear\n",
    "        self.fc3 = nn.Linear(fc2_units, action_size) #layer 3 is linear, with action size as outputs\n",
    "        \n",
    "        # Normalization layers\n",
    "        self.bn1 = nn.BatchNorm1d(fc1_units) #after Layer 2, there is normalization\n",
    "        self.reset_parameters() #be sure to reset the weight at the end of initialization\n",
    "        \n",
    "    def reset_parameters(self):\n",
    "        #weight reset\n",
    "        self.fc1.weight.data.uniform_(*hidden_init(self.fc1))\n",
    "        self.fc2.weight.data.uniform_(*hidden_init(self.fc2))\n",
    "        self.fc3.weight.data.uniform_(-3e-3, 3e-3)\n",
    "\n",
    "    def forward(self, state):\n",
    "        #finally taking step forward\n",
    "    \n",
    "        # Reshape the state to comply with Batch Normalization\n",
    "        if state.dim() == 1:\n",
    "            state = torch.unsqueeze(state, 0)\n",
    "\n",
    "        # Batch Normalization between first and second linear layers, using linear rectifier functions\n",
    "        x = F.relu(self.fc1(state))\n",
    "        x = self.bn1(x) \n",
    "        x = F.relu(self.fc2(x))\n",
    "        return F.tanh(self.fc3(x)) #note that we are returning a tanh\n",
    "\n",
    "class Critic(nn.Module):\n",
    "    #Critic (Value), will only make comments on how this is different from Actor\n",
    "\n",
    "    def __init__(self, state_size, action_size, seed, fcs1_units = 400, fc2_units = 300):\n",
    "        super(Critic, self).__init__()\n",
    "        self.seed = torch.manual_seed(seed)\n",
    "        \n",
    "        # Dense layers\n",
    "        self.fcs1 = nn.Linear(state_size, fcs1_units)\n",
    "        self.fc2 = nn.Linear(fcs1_units + action_size, fc2_units) #in Layer 2, we have added the action size to it's input\n",
    "        self.fc3 = nn.Linear(fc2_units, 1)\n",
    "        \n",
    "        # Normalization layers\n",
    "        self.bn1 = nn.BatchNorm1d(fcs1_units)\n",
    "        self.reset_parameters()\n",
    "\n",
    "    def reset_parameters(self):\n",
    "        self.fcs1.weight.data.uniform_(*hidden_init(self.fcs1))\n",
    "        self.fc2.weight.data.uniform_(*hidden_init(self.fc2))\n",
    "        self.fc3.weight.data.uniform_(-3e-3, 3e-3)\n",
    "\n",
    "    def forward(self, state, action):\n",
    "        if state.dim() == 1:\n",
    "            state = torch.unsqueeze(state, 0)\n",
    "                  \n",
    "        # Batch Normalization after Activation  \n",
    "        xs = F.relu(self.fcs1(state))\n",
    "        xs = self.bn1(xs) \n",
    "        x = torch.cat((xs, action), dim = 1) #concats with action\n",
    "        x = F.relu(self.fc2(x))\n",
    "        return self.fc3(x) #note that we are returning just fc3(x)"
   ]
  },
  {
   "cell_type": "code",
   "execution_count": 9,
   "metadata": {},
   "outputs": [],
   "source": [
    "#Define the agent\n",
    "\n",
    "class Agent():\n",
    "    def __init__(self, state_size, action_size, random_seed = 0,\n",
    "                actor_fc1_units = 400, actor_fc2_units = 300,\n",
    "                critic_fcs1_units = 400, critic_fc2_units = 300,\n",
    "                buffer_size = int(1e5), batch_size = 128,\n",
    "                gamma = 0.99, tau = 1e-3 , \n",
    "                lr_actor = 1e-4, lr_critic = 1e-4, weight_decay = 0,\n",
    "                add_ounoise = True, mu = 0., theta = 0.15, sigma = 0.2):\n",
    "        \n",
    "        # Initialize an Agent object. Note that all of there are parameters that can be potentially tuned:\n",
    "        self.state_size = state_size # dimension of each state\n",
    "        self.action_size = action_size # dimension of each action\n",
    "        self.random_seed = random_seed # random seed\n",
    "        self.actor_fc1_units = actor_fc1_units # number of units for the layer 1 in the actor model\n",
    "        self.actor_fc2_units = actor_fc2_units # number of units for the layer 2 in the actor model\n",
    "        self.critic_fcs1_units = critic_fcs1_units # number of units for the layer 1 in the critic model\n",
    "        self.critic_fc2_units = critic_fc2_units # number of units for the layer 2 in the critic model\n",
    "        self.buffer_size = buffer_size # replay buffer size, setting up ReplayBuffer\n",
    "        self.batch_size = batch_size # minibatch size, taken from ReplayBuffer\n",
    "        self.gamma = gamma # discount factor\n",
    "        self.tau = tau # for soft update of target parameter\n",
    "        self.lr_actor = lr_actor # learning rate of the actor \n",
    "        self.lr_critic = lr_critic # learning rate of the critic \n",
    "        self.weight_decay = weight_decay # L2 weight decay  \n",
    "        self.add_ounoise = add_ounoise # Ornstein-Uhlenbeck noise parameter (turn on)\n",
    "        self.mu = mu # Ornstein-Uhlenbeck noise parameter\n",
    "        self.theta = theta # Ornstein-Uhlenbeck noise parameter\n",
    "        self.sigma = sigma # Ornstein-Uhlenbeck noise parameter\n",
    "        \n",
    "        print(\"Hyperparam Setting: state_size: ({}) action_size: ({}) random_seed: ({}) actor_fc1_units: ({}) actor_fc2_units: ({}) critic_fcs1_units: ({}) critic_fc2_units: ({}) buffer_size: ({}) batch_size: ({}) gamma: ({}) tau: ({}) lr_actor: ({}) lr_critic: ({}) weight_decay: ({}) add_ounoise: ({}) mu: ({}) theta: ({}) sigma: ({}) \\n\".format(state_size, action_size, random_seed, \n",
    "                                                          actor_fc1_units, actor_fc2_units, critic_fcs1_units, critic_fc2_units,\n",
    "                                                          buffer_size, batch_size, gamma, tau, \n",
    "                                                          lr_actor, lr_critic, weight_decay, \n",
    "                                                          add_ounoise, mu, theta, sigma))\n",
    "        \n",
    "\n",
    "\n",
    "        # Actor Network (w/ Target Network)\n",
    "        self.actor_local = Actor(self.state_size, self.action_size, self.random_seed, self.actor_fc1_units, self.actor_fc2_units).to(device)\n",
    "        self.actor_target = Actor(self.state_size, self.action_size, self.random_seed, self.actor_fc1_units, self.actor_fc2_units).to(device)\n",
    "        self.actor_optimizer = optim.Adam(self.actor_local.parameters(), lr = lr_actor)\n",
    "        \n",
    "        # Make sure the Target Network has the same weight values as the Local Network\n",
    "        for target, local in zip(self.actor_target.parameters(), self.actor_local.parameters()):\n",
    "            target.data.copy_(local.data)\n",
    "    \n",
    "        # Critic Network (w/ Target Network)\n",
    "        self.critic_local = Critic(self.state_size, self.action_size, self.random_seed, self.critic_fcs1_units, self.critic_fc2_units).to(device)\n",
    "        self.critic_target = Critic(self.state_size, self.action_size, self.random_seed, self.critic_fcs1_units, self.critic_fc2_units).to(device)\n",
    "        self.critic_optimizer = optim.Adam(self.critic_local.parameters(), lr = lr_critic, weight_decay = self.weight_decay) #note that we also have weight_decay here\n",
    "        \n",
    "        # Make sure the Target Network has the same weight values as the Local Network\n",
    "        for target, local in zip(self.critic_target.parameters(), self.critic_local.parameters()):\n",
    "            target.data.copy_(local.data)\n",
    "\n",
    "        # Noise process\n",
    "        self.noise = OUNoise(size = self.action_size, seed = self.random_seed, mu = self.mu, theta = self.theta, sigma = self.sigma)\n",
    "\n",
    "        # Replay memory\n",
    "        self.memory = ReplayBuffer(self.action_size, self.buffer_size, self.batch_size, self.random_seed)\n",
    "    \n",
    "    def step(self, state, action, reward, next_state, done):\n",
    "        # Save experience / reward\n",
    "        self.memory.add(state, action, reward, next_state, done)\n",
    "\n",
    "        # Learn, if enough samples are available in memory\n",
    "        if len(self.memory) > self.batch_size:\n",
    "            experiences = self.memory.sample()\n",
    "            self.learn(experiences, self.gamma)\n",
    "\n",
    "    def act(self, state):\n",
    "        # using the current policty from actor_local, get an action based on the state\n",
    "        state = torch.from_numpy(state).float().to(device)\n",
    "        self.actor_local.eval()\n",
    "        with torch.no_grad():\n",
    "            action = self.actor_local(state).cpu().data.numpy()\n",
    "        self.actor_local.train()\n",
    "        if self.add_ounoise:\n",
    "            action += self.noise.sample()\n",
    "        return np.clip(action, -1, 1) #note that because it's tanh & noise, we'll need to clip at -1 and 1\n",
    "\n",
    "    def reset(self):\n",
    "        self.noise.reset()\n",
    "\n",
    "    def learn(self, experiences, gamma):\n",
    "        '''Update policy and value parameters using given batch of experience tuples. Pseudo code:\n",
    "        Q_targets = reward + gamma * critic_target(next_state, actor_target(next_state))\n",
    "        where:\n",
    "            actor_target(state) -> action\n",
    "            critic_target(state, action) -> Q-value\n",
    "\n",
    "        '''\n",
    "        states, actions, rewards, next_states, dones = experiences\n",
    "\n",
    "        # update critic \n",
    "        # Get predicted next-state actions and Q values from target models\n",
    "        next_actions = self.actor_target(next_states) #next_actions deteremined by actor_target\n",
    "        Q_targets_next = self.critic_target(next_states, next_actions) #base on next_actions and next_state, find Q_target_next from critic_target\n",
    "        # Compute Q targets for current states (y_i)\n",
    "        Q_targets = rewards + (gamma * Q_targets_next * (1 - dones)) #calculate Q_targets using rewards, gamma, Q_targets_next and dones\n",
    "        # Compute critic loss\n",
    "        Q_expected = self.critic_local(states, actions) #using states and actions to calculate Q_expected from critic_local\n",
    "        critic_loss = F.mse_loss(Q_expected, Q_targets) #using mean square error to determine difference in Q_targets and Q_expected\n",
    "        # Minimize the loss (using gradient clipping), update critic\n",
    "        self.critic_optimizer.zero_grad()\n",
    "        critic_loss.backward()\n",
    "        torch.nn.utils.clip_grad_norm(self.critic_local.parameters(), 1)\n",
    "        self.critic_optimizer.step()\n",
    "\n",
    "        # update actor\n",
    "        # Compute actor loss\n",
    "        actions_pred = self.actor_local(states)\n",
    "        actor_loss = -self.critic_local(states, actions_pred).mean()\n",
    "        # Minimize the loss, udate actor\n",
    "        self.actor_optimizer.zero_grad()\n",
    "        actor_loss.backward()\n",
    "        self.actor_optimizer.step()\n",
    "\n",
    "        #update target networks\n",
    "        self.soft_update(self.critic_local, self.critic_target, self.tau)\n",
    "        self.soft_update(self.actor_local, self.actor_target, self.tau)                     \n",
    "\n",
    "    def soft_update(self, local_model, target_model, tau):\n",
    "        # Soft update model parameters. Pseudo code:\n",
    "        # weight_target = tau *weight_local + (1 - tau) * weight_target\n",
    "\n",
    "        for target_param, local_param in zip(target_model.parameters(), local_model.parameters()):\n",
    "            # updating the target params\n",
    "            target_param.data.copy_(tau * local_param.data + (1.0 - tau) * target_param.data)\n"
   ]
  },
  {
   "cell_type": "code",
   "execution_count": null,
   "metadata": {},
   "outputs": [],
   "source": []
  },
  {
   "cell_type": "markdown",
   "metadata": {},
   "source": [
    "### Ready to run the DDPG"
   ]
  },
  {
   "cell_type": "code",
   "execution_count": 10,
   "metadata": {},
   "outputs": [],
   "source": [
    "# Agent hyperparameters\n",
    "buffer_size = int(1e5)  # replay buffer size\n",
    "batch_size = 128        # minibatch size\n",
    "gamma = 0.99            # discount factor\n",
    "tau = 1e-3              # for soft update of target parameters\n",
    "lr_actor = 1e-4         # learning rate of the actor \n",
    "lr_critic = 1e-3        # learning rate of the critic\n",
    "weight_decay = 0        # L2 weight decay\n",
    "\n",
    "actor_fc1_units = 400   # Number of units for the layer 1 in the actor model\n",
    "actor_fc2_units = 300   # Number of units for the layer 2 in the actor model\n",
    "critic_fcs1_units = 400 # Number of units for the layer 1 in the critic model\n",
    "critic_fc2_units = 300  # Number of units for the layer 2 in the critic model\n",
    "\n",
    "add_ounoise = True     # Add Ornstein-Uhlenbeck noise\n",
    "mu = 0.                 # Ornstein-Uhlenbeck noise parameter\n",
    "theta = 0.15            # Ornstein-Uhlenbeck noise parameter\n",
    "sigma = 0.2             # Ornstein-Uhlenbeck noise parameter\n",
    "\n",
    "\n",
    "#setting up the DDPG framework\n",
    "def ddpg(n_episodes = 5000, max_t = 500,\n",
    "         state_size = state_size, action_size = action_size, random_seed = 10, \n",
    "         actor_fc1_units = actor_fc1_units, actor_fc2_units = actor_fc2_units,\n",
    "         critic_fcs1_units = critic_fcs1_units, critic_fc2_units = critic_fc2_units,\n",
    "         buffer_size = buffer_size, batch_size = batch_size, \n",
    "         gamma = gamma, tau = tau, lr_actor = lr_actor, lr_critic = lr_critic, weight_decay = weight_decay,\n",
    "         add_ounoise = add_ounoise, mu = mu, theta = theta, sigma = sigma):  \n",
    "    \n",
    "    #Setup the Agent \n",
    "    agent = Agent(state_size = state_size, action_size = action_size, random_seed = random_seed,\n",
    "                  actor_fc1_units = actor_fc1_units, actor_fc2_units = actor_fc2_units,\n",
    "                  critic_fcs1_units = critic_fcs1_units, critic_fc2_units = critic_fc2_units,\n",
    "                  buffer_size = buffer_size, batch_size = batch_size, gamma = gamma, tau = tau,\n",
    "                  lr_actor = lr_actor, lr_critic = lr_critic, weight_decay = weight_decay,\n",
    "                  add_ounoise = add_ounoise, mu = mu, theta = theta, sigma = sigma)\n",
    "                  \n",
    "    scores_deque = deque(maxlen = 100) #this is per problem set definition\n",
    "    scores = []\n",
    "    avg_scores = []\n",
    "    success_episode = n_episodes\n",
    "    success_ind = False\n",
    "\n",
    "    print(\"Start training:\")\n",
    "    for i_episode in range(1, n_episodes + 1):\n",
    "        \n",
    "        # Reset the env and get the state (Single Agent)\n",
    "        env_info = env.reset(train_mode = True)[brain_name]     \n",
    "        state = env_info.vector_observations[0]\n",
    "        \n",
    "        # Reset the DDPG Agent (Reset the internal state (= noise) to mean mu)\n",
    "        agent.reset()\n",
    "        \n",
    "        # Reset the score \n",
    "        score = 0\n",
    "        \n",
    "        for t in range(max_t):\n",
    "            action = agent.act(state)                   # select an action \n",
    "\n",
    "            env_info=env.step(action)[brain_name]        # send action to the environment\n",
    "            next_state = env_info.vector_observations[0] # get next state (Single Agent)\n",
    "            reward = env_info.rewards[0]                 # get reward (Single Agent)\n",
    "            done = env_info.local_done[0]                # see if episode finished (Single Agent)\n",
    "            \n",
    "            #if i_episode<2:\n",
    "            #    print(\"Debug: steps={} reward={} done={}\".format(t,reward,done))\n",
    "            \n",
    "            # Save experience in replay memory, and use random sample from buffer to learn\n",
    "            agent.step(state, action, reward, next_state, done)\n",
    "            \n",
    "            state = next_state\n",
    "            score += reward\n",
    "            if done:\n",
    "                #print(\"Episode {} has terminated at step {}\".format(i_episode, t))\n",
    "                break \n",
    "        \n",
    "        # Save scores and compute average score over last 100 episodes\n",
    "        scores_deque.append(score)\n",
    "        scores.append(score)\n",
    "        avg_score = np.mean(scores_deque)\n",
    "        avg_scores.append(avg_score)\n",
    "        \n",
    "        print('\\rEpisode {}\\tAverage Score: {:.2f}\\tScore: {:.2f}'.format(i_episode, avg_score, score), end = \"\")\n",
    "        \n",
    "        if avg_score > 30 and success_ind == False:\n",
    "            success_episode = i_episode\n",
    "            success_ind = True\n",
    "            # save the checkpoints for actor and critic if avg_score > 30\n",
    "            torch.save(agent.actor_local.state_dict(), 'checkpoint_actor.pth')\n",
    "            torch.save(agent.critic_local.state_dict(), 'checkpoint_critic.pth')\n",
    "            print('\\rEnvironment solved in {} episodes with an Average Score of {:.2f}'.format(success_episode, avg_score))\n",
    "        \n",
    "        if i_episode % 25 == 0:\n",
    "            #print performance every 25 episodes\n",
    "            print('\\rEpisode {}\\tAverage Score: {:.2f}'.format(i_episode, avg_score))\n",
    "            \n",
    "        if success_ind and i_episode >= success_episode + 25: #let it run for an additional 25 episode to see what happens, then early stop\n",
    "            return scores, avg_scores\n",
    "            \n",
    "    return scores, avg_scores"
   ]
  },
  {
   "cell_type": "code",
   "execution_count": 11,
   "metadata": {},
   "outputs": [
    {
     "name": "stdout",
     "output_type": "stream",
     "text": [
      "Hyperparam Setting: state_size: (33) action_size: (4) random_seed: (10) actor_fc1_units: (128) actor_fc2_units: (128) critic_fcs1_units: (128) critic_fc2_units: (128) buffer_size: (100000) batch_size: (128) gamma: (0.99) tau: (0.001) lr_actor: (0.0002) lr_critic: (0.0002) weight_decay: (0.0) add_ounoise: (True) mu: (0.0) theta: (0.15) sigma: (0.1) \n",
      "\n",
      "Start training:\n",
      "Episode 25\tAverage Score: 0.91\tScore: 0.15\n",
      "Episode 50\tAverage Score: 1.75\tScore: 4.12\n",
      "Episode 75\tAverage Score: 2.98\tScore: 5.77\n",
      "Episode 100\tAverage Score: 4.46\tScore: 13.52\n",
      "Episode 125\tAverage Score: 7.18\tScore: 22.64\n",
      "Episode 150\tAverage Score: 12.52\tScore: 35.20\n",
      "Episode 175\tAverage Score: 19.27\tScore: 32.86\n",
      "Episode 200\tAverage Score: 25.85\tScore: 36.64\n",
      "Environment solved in 217 episodes with an Average Score of 30.00\n",
      "Episode 225\tAverage Score: 31.95\tScore: 37.06\n",
      "Episode 242\tAverage Score: 34.28\tScore: 23.25"
     ]
    }
   ],
   "source": [
    "scores, avg_scores = ddpg(n_episodes = 1500, max_t = 1000, \n",
    "                          actor_fc1_units = 128, actor_fc2_units = 128,\n",
    "                          critic_fcs1_units = 128, critic_fc2_units = 128, \n",
    "                          gamma = 0.99, tau = 1e-3, lr_actor = 2e-4, lr_critic = 2e-4, \n",
    "                          weight_decay = 0., add_ounoise = True, mu = 0., theta = 0.15, sigma = 0.1 )\n",
    "\n",
    "#doesn't seem like enable GPU runs any faster, any ideas why?"
   ]
  },
  {
   "cell_type": "code",
   "execution_count": 17,
   "metadata": {},
   "outputs": [
    {
     "data": {
      "image/png": "[encoded data removed]",
      "text/plain": [
       "<matplotlib.figure.Figure at 0x7fc7188449b0>"
      ]
     },
     "metadata": {
      "image/png": {
       "height": 281,
       "width": 389
      },
      "needs_background": "light"
     },
     "output_type": "display_data"
    }
   ],
   "source": [
    "# Plot the scores and average scores during the training\n",
    "plt.plot(np.arange(1, len(scores) + 1), scores, color = 'b', label = 'score')\n",
    "plt.plot(np.arange(1, len(scores) + 1), avg_scores, color = 'r', label = 'average trailing score')\n",
    "plt.axhline(30, linestyle = '--', color = 'g', label = 'goal')\n",
    "plt.legend()\n",
    "plt.title('DDPG Performance')\n",
    "plt.ylabel('Score')\n",
    "plt.xlabel('Episodes')\n",
    "plt.savefig('ddpg_performance_20191105.png')"
   ]
  },
  {
   "cell_type": "code",
   "execution_count": 18,
   "metadata": {},
   "outputs": [],
   "source": [
    "env.close()"
   ]
  },
  {
   "cell_type": "code",
   "execution_count": null,
   "metadata": {},
   "outputs": [],
   "source": []
  }
 ],
 "metadata": {
  "kernelspec": {
   "display_name": "Python 3",
   "language": "python",
   "name": "python3"
  },
  "language_info": {
   "codemirror_mode": {
    "name": "ipython",
    "version": 3
   },
   "file_extension": ".py",
   "mimetype": "text/x-python",
   "name": "python",
   "nbconvert_exporter": "python",
   "pygments_lexer": "ipython3",
   "version": "3.5.3"
  }
 },
 "nbformat": 4,
 "nbformat_minor": 2
}
